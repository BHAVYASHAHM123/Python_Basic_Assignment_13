{
 "cells": [
  {
   "cell_type": "markdown",
   "id": "85329eac",
   "metadata": {},
   "source": [
    "Q1). What advantages do Excel spreadsheets have over CSV spreadsheets?\n",
    "\n",
    "Ans) In Excel, spreadsheets can have values of data types other than strings; cells can have different fonts, sizes, or color settings; cells can have varying widths and heights; adjacent cells can be merged; and you can embed images and charts."
   ]
  },
  {
   "cell_type": "markdown",
   "id": "2f4c500b",
   "metadata": {},
   "source": [
    "Q2).What do you pass to csv.reader() and csv.writer() to create reader and writer objects?\n",
    "\n",
    "Ans) You pass a File object, obtained from a call to open()."
   ]
  },
  {
   "cell_type": "markdown",
   "id": "03d4a50a",
   "metadata": {},
   "source": [
    "Q3). What modes do File objects for reader and writer objects need to be opened in?\n",
    " \n",
    "Ans) File objects need to be opened in read-binary ('rb') for reader objects and write-binary ('wb') for writer objects."
   ]
  },
  {
   "cell_type": "markdown",
   "id": "5b9ae299",
   "metadata": {},
   "source": [
    "Q4). What method takes a list argument and writes it to a CSV file?\n",
    "\n",
    "Ans) The writerow() method"
   ]
  },
  {
   "cell_type": "markdown",
   "id": "561a91f0",
   "metadata": {},
   "source": [
    "Q5). What do the keyword arguments delimiter and line terminator do?\n",
    "\n",
    "Ans)The delimiter argument changes the string used to separate cells in a row. The lineterminator argument changes the string used to separate rows."
   ]
  },
  {
   "cell_type": "markdown",
   "id": "a4f3fd86",
   "metadata": {},
   "source": [
    "Q6). What function takes a string of JSON data and returns a Python data structure?\n",
    "\n",
    "Ans) json.loads()"
   ]
  },
  {
   "cell_type": "markdown",
   "id": "ed711e6f",
   "metadata": {},
   "source": [
    "Q7). What function takes a Python data structure and returns a string of JSON data?\n",
    "\n",
    "Ans) json.dumps()"
   ]
  },
  {
   "cell_type": "code",
   "execution_count": null,
   "id": "a17ad0cc",
   "metadata": {},
   "outputs": [],
   "source": []
  }
 ],
 "metadata": {
  "kernelspec": {
   "display_name": "Python 3 (ipykernel)",
   "language": "python",
   "name": "python3"
  },
  "language_info": {
   "codemirror_mode": {
    "name": "ipython",
    "version": 3
   },
   "file_extension": ".py",
   "mimetype": "text/x-python",
   "name": "python",
   "nbconvert_exporter": "python",
   "pygments_lexer": "ipython3",
   "version": "3.9.7"
  }
 },
 "nbformat": 4,
 "nbformat_minor": 5
}
